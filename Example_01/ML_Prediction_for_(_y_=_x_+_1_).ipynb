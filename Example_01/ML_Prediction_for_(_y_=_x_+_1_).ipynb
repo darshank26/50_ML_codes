{
  "nbformat": 4,
  "nbformat_minor": 0,
  "metadata": {
    "colab": {
      "provenance": [],
      "toc_visible": true,
      "authorship_tag": "ABX9TyMdGKBSTuJfZrfMBluhZoYJ",
      "include_colab_link": true
    },
    "kernelspec": {
      "name": "python3",
      "display_name": "Python 3"
    },
    "language_info": {
      "name": "python"
    }
  },
  "cells": [
    {
      "cell_type": "markdown",
      "metadata": {
        "id": "view-in-github",
        "colab_type": "text"
      },
      "source": [
        "<a href=\"https://colab.research.google.com/github/darshank26/50_ML_codes/blob/main/Example_01/ML_Prediction_for_(_y_%3D_x_%2B_1_).ipynb\" target=\"_parent\"><img src=\"https://colab.research.google.com/assets/colab-badge.svg\" alt=\"Open In Colab\"/></a>"
      ]
    },
    {
      "cell_type": "code",
      "execution_count": null,
      "metadata": {
        "id": "CYBZ8UN4lSrR",
        "colab": {
          "base_uri": "https://localhost:8080/"
        },
        "outputId": "ff938e3e-c763-435e-c981-5c82b8f328c4"
      },
      "outputs": [
        {
          "output_type": "stream",
          "name": "stdout",
          "text": [
            "2.12.0\n",
            "1.22.4\n"
          ]
        }
      ],
      "source": [
        "#import the list of librbabry needed\n",
        "import tensorflow as tf\n",
        "import numpy as np\n",
        "from tensorflow import keras\n",
        "import matplotlib.pyplot as plt\n",
        "\n",
        "\n",
        "print(tf.__version__)\n",
        "print(np.__version__)\n"
      ]
    },
    {
      "cell_type": "code",
      "source": [],
      "metadata": {
        "id": "3B1s33eAUTmc"
      },
      "execution_count": null,
      "outputs": []
    },
    {
      "cell_type": "code",
      "source": [
        "# Build a simple Sequential model\n",
        "\n",
        "model = tf.keras.Sequential([keras.layers.Dense(units = 1, input_shape=[1])])\n",
        "print(model)"
      ],
      "metadata": {
        "id": "Y3ec0fCinjYd",
        "colab": {
          "base_uri": "https://localhost:8080/"
        },
        "outputId": "86bb2601-d83e-4085-800e-d11839d039f8"
      },
      "execution_count": null,
      "outputs": [
        {
          "output_type": "stream",
          "name": "stdout",
          "text": [
            "<keras.engine.sequential.Sequential object at 0x7fd810c7c1c0>\n"
          ]
        }
      ]
    },
    {
      "cell_type": "code",
      "source": [
        "# Compile the model\n",
        "\n",
        "model.compile(optimizer='sgd', loss='mean_squared_error')\n",
        "print(model)"
      ],
      "metadata": {
        "colab": {
          "base_uri": "https://localhost:8080/"
        },
        "id": "GritE0mkoNk8",
        "outputId": "413c66c3-7158-4033-83ee-4dcb081500e6"
      },
      "execution_count": null,
      "outputs": [
        {
          "output_type": "stream",
          "name": "stdout",
          "text": [
            "<keras.engine.sequential.Sequential object at 0x7fd810c7c1c0>\n"
          ]
        }
      ]
    },
    {
      "cell_type": "code",
      "source": [
        "# Declare model inputs and outputs for training\n",
        "\n",
        "xs = np.array([-5.0,-4.0,-3.0,-2.0,-1.0, 0.0, 1.0, 2.0, 3.0, 4.0, 5.0, 6.0, 7.0, 8.0,9.0,10.0], dtype=float)\n",
        "ys = np.array([-4.0, -3.0, -2.0, -1.0, 0.0, 1.0, 2.0, 3.0, 4.0, 5.0, 6.0, 7.0,8.0,9.0,10.0,11.0], dtype=float)\n"
      ],
      "metadata": {
        "id": "CV1oqiKHoVY9"
      },
      "execution_count": null,
      "outputs": []
    },
    {
      "cell_type": "code",
      "source": [
        "# Train the model\n",
        "\n",
        "model.fit(xs, ys, epochs=1000)"
      ],
      "metadata": {
        "id": "0o2QgsrnsSPH"
      },
      "execution_count": null,
      "outputs": []
    },
    {
      "cell_type": "code",
      "source": [
        "# Make a prediction\n",
        "print(model.predict([-706.0]))"
      ],
      "metadata": {
        "colab": {
          "base_uri": "https://localhost:8080/"
        },
        "id": "yAtKeIydqIHf",
        "outputId": "afb56221-72f2-4fce-b441-87066cda051e"
      },
      "execution_count": null,
      "outputs": [
        {
          "output_type": "stream",
          "name": "stdout",
          "text": [
            "1/1 [==============================] - 0s 72ms/step\n",
            "[[-705.0002]]\n"
          ]
        }
      ]
    },
    {
      "cell_type": "code",
      "source": [
        "# original data and prediction data graph\n",
        "\n",
        "plt.figure(figsize=(14,5))\n",
        "plt.subplot(1,2,1)\n",
        "p = np.random.random((1000,1))*100-50 # new random data in [-50, 50]\n",
        "plt.plot(p,model.predict(p), '.')\n",
        "plt.xlabel('x')\n",
        "plt.ylabel('prediction')\n",
        "plt.title('Predictions on NEW data in [-50,50]')\n",
        "\n",
        "plt.subplot(1,2,2)\n",
        "plt.xlabel('x')\n",
        "plt.ylabel('y')\n",
        "plt.plot(xs,ys,'.')\n",
        "plt.title('Original data')"
      ],
      "metadata": {
        "colab": {
          "base_uri": "https://localhost:8080/",
          "height": 464
        },
        "id": "jLcX1LRQUVBt",
        "outputId": "f92362d8-9f59-4d5a-82ac-929a5a5b19fd"
      },
      "execution_count": 36,
      "outputs": [
        {
          "output_type": "stream",
          "name": "stdout",
          "text": [
            "32/32 [==============================] - 0s 2ms/step\n"
          ]
        },
        {
          "output_type": "execute_result",
          "data": {
            "text/plain": [
              "Text(0.5, 1.0, 'Original data')"
            ]
          },
          "metadata": {},
          "execution_count": 36
        },
        {
          "output_type": "display_data",
          "data": {
            "text/plain": [
              "<Figure size 1400x500 with 2 Axes>"
            ],
            "image/png": "[encoded data removed]"
          },
          "metadata": {}
        }
      ]
    }
  ]
}