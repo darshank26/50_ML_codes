{
  "nbformat": 4,
  "nbformat_minor": 0,
  "metadata": {
    "colab": {
      "provenance": [],
      "authorship_tag": "ABX9TyNYo/1CmQCNxGTtLgeUWIHe",
      "include_colab_link": true
    },
    "kernelspec": {
      "name": "python3",
      "display_name": "Python 3"
    },
    "language_info": {
      "name": "python"
    }
  },
  "cells": [
    {
      "cell_type": "markdown",
      "metadata": {
        "id": "view-in-github",
        "colab_type": "text"
      },
      "source": [
        "<a href=\"https://colab.research.google.com/github/darshank26/50_ML_codes/blob/main/Example_01/ML_Prediction_for_(_y_%3D_x_%2B_1_).ipynb\" target=\"_parent\"><img src=\"https://colab.research.google.com/assets/colab-badge.svg\" alt=\"Open In Colab\"/></a>"
      ]
    },
    {
      "cell_type": "code",
      "execution_count": null,
      "metadata": {
        "id": "CYBZ8UN4lSrR",
        "colab": {
          "base_uri": "https://localhost:8080/"
        },
        "outputId": "6a757e3e-22ec-408d-e259-faa4a1effc6c"
      },
      "outputs": [
        {
          "output_type": "stream",
          "name": "stdout",
          "text": [
            "2.12.0\n",
            "1.22.4\n"
          ]
        }
      ],
      "source": [
        "#import the list of librbabry needed\n",
        "import tensorflow as tf\n",
        "import numpy as np\n",
        "from tensorflow import keras\n",
        "\n",
        "print(tf.__version__)\n",
        "print(np.__version__)\n"
      ]
    },
    {
      "cell_type": "code",
      "source": [
        "# Build a simple Sequential model\n",
        "\n",
        "model = tf.keras.Sequential([keras.layers.Dense(units = 1, input_shape=[1])])\n",
        "print(model)"
      ],
      "metadata": {
        "id": "Y3ec0fCinjYd",
        "colab": {
          "base_uri": "https://localhost:8080/"
        },
        "outputId": "7c1e51ab-f914-4863-d51e-149ba1314e34"
      },
      "execution_count": null,
      "outputs": [
        {
          "output_type": "stream",
          "name": "stdout",
          "text": [
            "<keras.engine.sequential.Sequential object at 0x7fd8240cc370>\n"
          ]
        }
      ]
    },
    {
      "cell_type": "code",
      "source": [
        "# Compile the model\n",
        "\n",
        "model.compile(optimizer='sgd', loss='mean_squared_error')\n",
        "print(model)"
      ],
      "metadata": {
        "colab": {
          "base_uri": "https://localhost:8080/"
        },
        "id": "GritE0mkoNk8",
        "outputId": "e647ac90-8080-4822-ca46-cfcaf669b155"
      },
      "execution_count": null,
      "outputs": [
        {
          "output_type": "stream",
          "name": "stdout",
          "text": [
            "<keras.engine.sequential.Sequential object at 0x7fd8240cc370>\n"
          ]
        }
      ]
    },
    {
      "cell_type": "code",
      "source": [
        "# Declare model inputs and outputs for training\n",
        "\n",
        "xs = np.array([-5.0,-4.0,-3.0,-2.0,-1.0, 0.0, 1.0, 2.0, 3.0, 4.0, 5.0, 6.0, 7.0, 8.0,9.0,10.0], dtype=float)\n",
        "ys = np.array([-4.0, -3.0, -2.0, -1.0, 0.0, 1.0, 2.0, 3.0, 4.0, 5.0, 6.0, 7.0,8.0,9.0,10.0,11.0], dtype=float)\n"
      ],
      "metadata": {
        "id": "CV1oqiKHoVY9"
      },
      "execution_count": null,
      "outputs": []
    },
    {
      "cell_type": "code",
      "source": [
        "# Train the model\n",
        "\n",
        "model.fit(xs, ys, epochs=500)"
      ],
      "metadata": {
        "id": "0o2QgsrnsSPH"
      },
      "execution_count": null,
      "outputs": []
    },
    {
      "cell_type": "code",
      "source": [
        "# Make a prediction\n",
        "print(model.predict([-706.0]))"
      ],
      "metadata": {
        "colab": {
          "base_uri": "https://localhost:8080/"
        },
        "id": "yAtKeIydqIHf",
        "outputId": "afb56221-72f2-4fce-b441-87066cda051e"
      },
      "execution_count": 30,
      "outputs": [
        {
          "output_type": "stream",
          "name": "stdout",
          "text": [
            "1/1 [==============================] - 0s 72ms/step\n",
            "[[-705.0002]]\n"
          ]
        }
      ]
    }
  ]
}